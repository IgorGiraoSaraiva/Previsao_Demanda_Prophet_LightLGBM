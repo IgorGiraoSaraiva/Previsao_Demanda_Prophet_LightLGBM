{
 "cells": [
  {
   "cell_type": "code",
   "execution_count": null,
   "id": "fdf25bdf",
   "metadata": {},
   "outputs": [],
   "source": [
    "import pandas as pd\n",
    "import numpy as np\n",
    "import seaborn as sns\n",
    "import matplotlib.pyplot as plt\n",
    "import plotly.express as px\n",
    "import plotly.graph_objects as go\n",
    "from statsmodels.tsa.seasonal import seasonal_decompose"
   ]
  },
  {
   "cell_type": "code",
   "execution_count": null,
   "id": "a2d83bac",
   "metadata": {},
   "outputs": [],
   "source": [
    "#Lendo datasets\n",
    "df_train = pd.read_csv('../data/raw/train.csv') \n",
    "df_test = pd.read_csv('../data/raw/test.csv')"
   ]
  },
  {
   "cell_type": "code",
   "execution_count": null,
   "id": "d2bd83c1",
   "metadata": {},
   "outputs": [],
   "source": [
    "#Verificação\n",
    "df_train.head()"
   ]
  },
  {
   "cell_type": "markdown",
   "id": "d584e22c",
   "metadata": {},
   "source": [
    "# Verificação Inicial"
   ]
  },
  {
   "cell_type": "code",
   "execution_count": null,
   "id": "47cc9f5d",
   "metadata": {},
   "outputs": [],
   "source": [
    "df_train.describe()"
   ]
  },
  {
   "cell_type": "code",
   "execution_count": null,
   "id": "775d8937",
   "metadata": {},
   "outputs": [],
   "source": [
    "df_test.describe()"
   ]
  },
  {
   "cell_type": "code",
   "execution_count": null,
   "id": "357dc7f5",
   "metadata": {},
   "outputs": [],
   "source": [
    "df_train.dtypes"
   ]
  },
  {
   "cell_type": "markdown",
   "id": "f52e2658",
   "metadata": {},
   "source": [
    "# Tratando inicial dos dados"
   ]
  },
  {
   "cell_type": "code",
   "execution_count": null,
   "id": "ba243ff5",
   "metadata": {},
   "outputs": [],
   "source": [
    "#Convertendo coluna de datas e setando index\n",
    "df_train['date'] = pd.to_datetime(df_train['date'])\n",
    "df_train = df_train.set_index('date')"
   ]
  },
  {
   "cell_type": "markdown",
   "id": "85e4d9c0",
   "metadata": {},
   "source": [
    "# Análise Inicial dos Dados"
   ]
  },
  {
   "cell_type": "markdown",
   "id": "160a3d0c",
   "metadata": {},
   "source": [
    "## Comportamento Geral das vendas"
   ]
  },
  {
   "cell_type": "code",
   "execution_count": null,
   "id": "f5f8278b",
   "metadata": {},
   "outputs": [],
   "source": [
    "#Comportamento das vendas: Anual, trimestral, mensal e diario.\n",
    "vendas_anuais = df_train['sales'].resample('YE').sum()\n",
    "vendas_trimestrais = df_train['sales'].resample('QE').sum()\n",
    "vendas_mensais = df_train['sales'].resample('ME').sum() \n",
    "vendas_diarias = df_train['sales'].resample('D').sum() "
   ]
  },
  {
   "cell_type": "code",
   "execution_count": null,
   "id": "ba631767",
   "metadata": {},
   "outputs": [],
   "source": [
    "fig = go.Figure()\n",
    "\n",
    "fig.add_trace(go.Scatter(\n",
    "    x=vendas_diarias.index,\n",
    "    y=vendas_diarias,\n",
    "    name='Diário'\n",
    "))\n",
    "\n",
    "fig.update_layout(\n",
    "    title_text=\"Dashboard de Vendas: Anual, Trimestral, Mensal e Diário\",\n",
    "    xaxis_title=\"Data\",\n",
    "    yaxis_title=\"Total de Vendas\",\n",
    "    updatemenus=[\n",
    "        dict(\n",
    "            type=\"buttons\",\n",
    "            direction=\"down\",\n",
    "            active=0,\n",
    "            x=1.05, \n",
    "            y=1.1,\n",
    "            buttons=list([\n",
    "                dict(label=\"Diário\",\n",
    "                     method=\"update\",\n",
    "                     args=[{\"y\": [vendas_diarias], \"x\": [vendas_diarias.index]},\n",
    "                           {\"title\": \"Visão Diária das Vendas\"}]),\n",
    "                dict(label=\"Mensal\",\n",
    "                     method=\"update\",\n",
    "                     args=[{\"y\": [vendas_mensais], \"x\": [vendas_mensais.index]},\n",
    "                           {\"title\": \"Visão Mensal das Vendas\"}]),\n",
    "                dict(label=\"Trimestral\",\n",
    "                     method=\"update\",\n",
    "                     args=[{\"y\": [vendas_trimestrais], \"x\": [vendas_trimestrais.index]},\n",
    "                           {\"title\": \"Visão Trimestral das Vendas\"}]),\n",
    "                dict(label=\"Anual\",\n",
    "                     method=\"update\",\n",
    "                     args=[{\"y\": [vendas_anuais], \"x\": [vendas_anuais.index]},\n",
    "                           {\"title\": \"Visão Anual das Vendas\"}]),\n",
    "            ]),\n",
    "        )\n",
    "    ])\n",
    "\n",
    "fig.show()"
   ]
  },
  {
   "cell_type": "markdown",
   "id": "51f878ef",
   "metadata": {},
   "source": [
    "## Tendência, Sazonalidades e Resíduos"
   ]
  },
  {
   "cell_type": "code",
   "execution_count": null,
   "id": "67b3e89a",
   "metadata": {},
   "outputs": [],
   "source": [
    "decomposicao_multiplicativa = seasonal_decompose(vendas_mensais, model='multiplicative')\n",
    "\n",
    "# Plotando os resultados\n",
    "fig = decomposicao_multiplicativa.plot()\n",
    "fig.set_size_inches((16, 10)) # Ajustando o tamanho para melhor visualização\n",
    "fig.suptitle('Decomposição Multiplicativa da Série de Vendas Mensais', y=1.02, fontsize=16)\n",
    "plt.show()"
   ]
  },
  {
   "cell_type": "markdown",
   "id": "7b25dba8",
   "metadata": {},
   "source": [
    "# Prophet"
   ]
  },
  {
   "cell_type": "code",
   "execution_count": null,
   "id": "40a516cf",
   "metadata": {},
   "outputs": [],
   "source": [
    "from prophet import Prophet\n",
    "import holidays\n",
    "from sklearn.metrics import mean_absolute_error, mean_squared_error, r2_score"
   ]
  },
  {
   "cell_type": "markdown",
   "id": "09edd5e1",
   "metadata": {},
   "source": [
    "## Comportamento"
   ]
  },
  {
   "cell_type": "code",
   "execution_count": null,
   "id": "5855ef57",
   "metadata": {},
   "outputs": [],
   "source": [
    "# Separando dataframe para avaliação do prophet\n",
    "df_prophet = vendas_diarias.reset_index()\n",
    "df_prophet.columns = ['ds', 'y']\n",
    "df_prophet"
   ]
  },
  {
   "cell_type": "code",
   "execution_count": null,
   "id": "8d2b9869",
   "metadata": {},
   "outputs": [],
   "source": [
    "# Criação da coluna de feriados\n",
    "df_feriados = pd.DataFrame([{'holiday': data[1], 'ds': data[0]} for data in holidays.Brazil(years=range(2013, 2018)).items()])\n",
    "df_feriados['ds'] = pd.to_datetime(df_feriados['ds'])"
   ]
  },
  {
   "cell_type": "code",
   "execution_count": null,
   "id": "5443f8da",
   "metadata": {},
   "outputs": [],
   "source": [
    "#Separação da base em treino e validação\n",
    "df_train_prophet = df_prophet[df_prophet['ds'].dt.year < 2017]\n",
    "df_valid_prophet = df_prophet[df_prophet['ds'].dt.year == 2017]"
   ]
  },
  {
   "cell_type": "code",
   "execution_count": null,
   "id": "cf7f4085",
   "metadata": {},
   "outputs": [],
   "source": [
    "# Treinamento\n",
    "modelo_prophet = Prophet(holidays=df_feriados,\n",
    "                         daily_seasonality=True,\n",
    "                         yearly_seasonality=True,\n",
    "                         weekly_seasonality=True)\n",
    "\n",
    "modelo_prophet.fit(df_prophet)\n",
    "\n",
    "periodo_futuro = 90\n",
    "df_futuro = modelo_prophet.make_future_dataframe(periods=periodo_futuro)\n",
    "forecast = modelo_prophet.predict(df_futuro)"
   ]
  },
  {
   "cell_type": "code",
   "execution_count": null,
   "id": "de2ad9fa",
   "metadata": {},
   "outputs": [],
   "source": [
    "#Salvando modelo prophet treinado\n",
    "import joblib\n",
    "joblib.dump(modelo_prophet, 'prophet.joblib')"
   ]
  },
  {
   "cell_type": "code",
   "execution_count": null,
   "id": "dad094f4",
   "metadata": {},
   "outputs": [],
   "source": [
    "# Plotando o resultado final de forma interativa com Plotly\n",
    "fig = go.Figure()\n",
    "\n",
    "# Adicionar a linha de Vendas Reais (Histórico)\n",
    "fig.add_trace(go.Scatter(\n",
    "    x=df_prophet['ds'],\n",
    "    y=df_prophet['y'],\n",
    "    mode='lines',\n",
    "    name='Vendas Reais (Histórico)',\n",
    "    line=dict(color='blue')\n",
    "))\n",
    "\n",
    "# Adicionar a linha de Previsões do Prophet\n",
    "previsao_futura = forecast[forecast['ds'] > df_prophet['ds'].max()]\n",
    "fig.add_trace(go.Scatter(\n",
    "    x=previsao_futura['ds'],\n",
    "    y=previsao_futura['yhat'], # 'yhat' é a previsão\n",
    "    mode='lines',\n",
    "    name='Previsões Prophet (2018)',\n",
    "    line=dict(color='red', dash='dash')\n",
    "))\n",
    "\n",
    "# Customizar o layout\n",
    "fig.update_layout(\n",
    "    title='Histórico de Vendas Totais vs. Previsões com Prophet',\n",
    "    xaxis_title='Data',\n",
    "    yaxis_title='Total de Vendas'\n",
    ")\n",
    "\n",
    "fig.show()"
   ]
  }
 ],
 "metadata": {
  "kernelspec": {
   "display_name": "projeto-previsao-demanda-YKHilLeT-py3.10",
   "language": "python",
   "name": "python3"
  },
  "language_info": {
   "codemirror_mode": {
    "name": "ipython",
    "version": 3
   },
   "file_extension": ".py",
   "mimetype": "text/x-python",
   "name": "python",
   "nbconvert_exporter": "python",
   "pygments_lexer": "ipython3",
   "version": "3.10.11"
  }
 },
 "nbformat": 4,
 "nbformat_minor": 5
}
