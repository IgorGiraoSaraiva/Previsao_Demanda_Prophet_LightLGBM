{
 "cells": [
  {
   "cell_type": "code",
   "execution_count": null,
   "id": "37a055f1",
   "metadata": {},
   "outputs": [],
   "source": [
    "import pandas as pd\n",
    "import numpy as np\n",
    "import matplotlib.pyplot as plt\n",
    "import lightgbm as lgb\n",
    "import xgboost as xgb\n",
    "import holidays\n",
    "import shap\n",
    "from sklearn.metrics import mean_absolute_error, mean_squared_error, r2_score"
   ]
  },
  {
   "cell_type": "code",
   "execution_count": null,
   "id": "d7ae13eb",
   "metadata": {},
   "outputs": [],
   "source": [
    "#Lendo datasets\n",
    "df_train = pd.read_csv('../data/raw/train.csv') \n",
    "#Convertendo coluna de datas\n",
    "df_train['date'] = pd.to_datetime(df_train['date'])\n",
    "df_train = df_train.set_index('date')\n",
    "#Trabalhar com a cópia do dataframe\n",
    "df_featured = df_train.copy()\n",
    "df_featured.sort_index(inplace=True)"
   ]
  },
  {
   "cell_type": "markdown",
   "id": "ee22c837",
   "metadata": {},
   "source": [
    "# Engenharia de Feature"
   ]
  },
  {
   "cell_type": "markdown",
   "id": "0e477dc7",
   "metadata": {},
   "source": [
    "## Features de Data"
   ]
  },
  {
   "cell_type": "code",
   "execution_count": null,
   "id": "532879da",
   "metadata": {},
   "outputs": [],
   "source": [
    "df_featured['mes'] = df_featured.index.month\n",
    "df_featured['dia_da_semana'] = df_featured.index.dayofweek # Segunda=0, Domingo=6\n",
    "df_featured['dia_do_ano'] = df_featured.index.dayofyear\n",
    "df_featured['semana_do_ano'] = df_featured.index.isocalendar().week.astype(int)\n",
    "df_featured['ano'] = df_featured.index.year\n",
    "# Feriados brasileiros\n",
    "feriados_br = holidays.Brazil()\n",
    "df_featured['e_feriado'] = df_featured.index.to_series().apply(lambda x: feriados_br.get(x)).notna().astype(int)"
   ]
  },
  {
   "cell_type": "code",
   "execution_count": null,
   "id": "8cb0e956",
   "metadata": {},
   "outputs": [],
   "source": [
    "df_featured"
   ]
  },
  {
   "cell_type": "markdown",
   "id": "e5817699",
   "metadata": {},
   "source": [
    "## Features de performance"
   ]
  },
  {
   "cell_type": "code",
   "execution_count": null,
   "id": "fbd09155",
   "metadata": {},
   "outputs": [],
   "source": [
    "# Features de Lag vendas da semana anterior\n",
    "df_featured['vendas_lag_7d'] = df_featured.groupby(['store', 'item'])['sales'].shift(7)\n",
    "\n",
    "# Features de média de vendas da última semana\n",
    "df_featured['media_vendas_7d'] = df_featured.groupby(['store', 'item'])['sales'].transform(\n",
    "    lambda x: x.shift(1).rolling(window=7, min_periods=1).mean())\n",
    "\n",
    "# Features de Lag de vendas da última quinzena\n",
    "df_featured['vendas_lag_15d'] = df_featured.groupby(['store', 'item'])['sales'].shift(15)\n",
    "\n",
    "# Features de média de vendas do última mês\n",
    "df_featured['vendas_lag_30d'] = df_featured.groupby(['store', 'item'])['sales'].shift(30)\n",
    "\n",
    "# Features de média de vendas da última semana\n",
    "df_featured['media_vendas_30d'] = df_featured.groupby(['store', 'item'])['sales'].transform(\n",
    "    lambda x: x.shift(1).rolling(window=30, min_periods=1).mean()\n",
    ")\n",
    "\n",
    "df_featured.dropna(inplace=True)"
   ]
  },
  {
   "cell_type": "code",
   "execution_count": null,
   "id": "120e1669",
   "metadata": {},
   "outputs": [],
   "source": [
    "df_featured.dtypes"
   ]
  },
  {
   "cell_type": "code",
   "execution_count": null,
   "id": "4ee10f4d",
   "metadata": {},
   "outputs": [],
   "source": [
    "nome_arquivo = 'df_ML.csv'\n",
    "df_featured.to_csv(nome_arquivo)"
   ]
  },
  {
   "cell_type": "markdown",
   "id": "84889974",
   "metadata": {},
   "source": [
    "# Data Prep para Modelos de Machine Learning"
   ]
  },
  {
   "cell_type": "code",
   "execution_count": null,
   "id": "338256db",
   "metadata": {},
   "outputs": [],
   "source": [
    "#Dividir em Treino e Validação\n",
    "train = df_featured[df_featured.index.year < 2017] #Até 2016 para treino\n",
    "valid = df_featured[df_featured.index.year == 2017] #2017 para validação"
   ]
  },
  {
   "cell_type": "code",
   "execution_count": null,
   "id": "10952510",
   "metadata": {},
   "outputs": [],
   "source": [
    "#Definição de Features\n",
    "x_train = train.drop('sales', axis=1)\n",
    "y_train = train['sales']\n",
    "\n",
    "x_valid = valid.drop('sales', axis=1)\n",
    "y_valid = valid['sales']\n",
    "\n",
    "# Verificar os formatos\n",
    "print(\"Formato de X_treino:\", x_train.shape)\n",
    "print(\"Formato de X_validacao:\", x_valid.shape)"
   ]
  },
  {
   "cell_type": "markdown",
   "id": "16d2870f",
   "metadata": {},
   "source": [
    "# Alimentando Modelos de Machine Learning"
   ]
  },
  {
   "cell_type": "code",
   "execution_count": null,
   "id": "02d5e9fc",
   "metadata": {},
   "outputs": [],
   "source": [
    "#Função de avaliação\n",
    "def avaliar_modelo(modelo,x_train,y_train, x_test, y_test):\n",
    "    \"\"\"\n",
    "    Calcula e exibe as métricas de avaliação (R², MAE, RMSE) para um modelo de regressão.\n",
    "    \"\"\"\n",
    "    # Fazer previsões com os dados de teste\n",
    "    previsao_treino = modelo.predict(x_train)\n",
    "    previsao_teste =  modelo.predict(x_test)\n",
    "    \n",
    "    # Calcular as métricas de treino\n",
    "    mae_train = mean_absolute_error(y_train, previsao_treino)\n",
    "    rmse_train = np.sqrt(mean_squared_error(y_train, previsao_treino)) \n",
    "    r2_train = r2_score(y_train, previsao_treino)\n",
    "    \n",
    "    # Calcular as métricas de teste\n",
    "    mae_test = mean_absolute_error(y_test, previsao_teste)\n",
    "    rmse_test = np.sqrt(mean_squared_error(y_test, previsao_teste)) \n",
    "    r2_test = r2_score(y_test, previsao_teste)\n",
    "    \n",
    "    # Concatenar resultados\n",
    "    resultados = {\n",
    "        'Métrica': ['R²', 'MAE', 'RMSE'],\n",
    "        'Treino': [r2_train, mae_train, rmse_train],\n",
    "        'Teste': [r2_test, mae_test, rmse_test]\n",
    "    }\n",
    "    resultado = pd.DataFrame(resultados)\n",
    "    return round(resultado,3)"
   ]
  },
  {
   "cell_type": "markdown",
   "id": "13b79a36",
   "metadata": {},
   "source": [
    "## LightGBM"
   ]
  },
  {
   "cell_type": "code",
   "execution_count": null,
   "id": "1ed33b4b",
   "metadata": {},
   "outputs": [],
   "source": [
    "#Modelo Básico\n",
    "lgbm_model = lgb.LGBMRegressor(random_state=42)\n",
    "\n",
    "#Treinando Modelo\n",
    "lgbm_model.fit(x_train, y_train)\n",
    "\n",
    "#Avaliando previsões\n",
    "previsoes = lgbm_model.predict(x_valid)"
   ]
  },
  {
   "cell_type": "code",
   "execution_count": null,
   "id": "81128448",
   "metadata": {},
   "outputs": [],
   "source": [
    "#Avaliando resultado\n",
    "avaliar_modelo(lgbm_model,x_train,y_train,x_valid,y_valid)"
   ]
  },
  {
   "cell_type": "markdown",
   "id": "955d7974",
   "metadata": {},
   "source": [
    "## XGBoost"
   ]
  },
  {
   "cell_type": "code",
   "execution_count": null,
   "id": "d63a3c45",
   "metadata": {},
   "outputs": [],
   "source": [
    "#Modelo Básico\n",
    "xgb_model = xgb.XGBRegressor(random_state=42)\n",
    "\n",
    "#Treinando Modelo\n",
    "xgb_model.fit(x_train, y_train)\n",
    "\n",
    "#Avaliando previsões\n",
    "previsoes = xgb_model.predict(x_valid)"
   ]
  },
  {
   "cell_type": "code",
   "execution_count": null,
   "id": "705bbff6",
   "metadata": {},
   "outputs": [],
   "source": [
    "#Avaliando resultado\n",
    "avaliar_modelo(xgb_model,x_train,y_train,x_valid,y_valid)"
   ]
  },
  {
   "cell_type": "markdown",
   "id": "277045a0",
   "metadata": {},
   "source": [
    "# Interpretando Modelos Estatísticos"
   ]
  },
  {
   "cell_type": "code",
   "execution_count": null,
   "id": "dffb5304",
   "metadata": {},
   "outputs": [],
   "source": [
    "# Habilitar o JavaScript para visualização no notebook\n",
    "shap.initjs()"
   ]
  },
  {
   "cell_type": "code",
   "execution_count": null,
   "id": "a61bd5d3",
   "metadata": {},
   "outputs": [],
   "source": [
    "explainer_lgbm = shap.TreeExplainer(lgbm_model)\n",
    "explainer_xgb = shap.TreeExplainer(xgb_model)\n",
    "\n",
    "shap_values_lgbm = explainer_lgbm.shap_values(x_valid)\n",
    "shap_values_xgb = explainer_xgb.shap_values(x_valid)"
   ]
  },
  {
   "cell_type": "code",
   "execution_count": null,
   "id": "e5af6fd9",
   "metadata": {},
   "outputs": [],
   "source": [
    "\n",
    "shap.summary_plot(shap_values_lgbm, x_valid, plot_type=\"dot\", show=False)\n",
    "\n",
    "\n",
    "\n",
    "plt.show()"
   ]
  }
 ],
 "metadata": {
  "kernelspec": {
   "display_name": "projeto-previsao-demanda-YKHilLeT-py3.10",
   "language": "python",
   "name": "python3"
  },
  "language_info": {
   "codemirror_mode": {
    "name": "ipython",
    "version": 3
   },
   "file_extension": ".py",
   "mimetype": "text/x-python",
   "name": "python",
   "nbconvert_exporter": "python",
   "pygments_lexer": "ipython3",
   "version": "3.10.11"
  }
 },
 "nbformat": 4,
 "nbformat_minor": 5
}
