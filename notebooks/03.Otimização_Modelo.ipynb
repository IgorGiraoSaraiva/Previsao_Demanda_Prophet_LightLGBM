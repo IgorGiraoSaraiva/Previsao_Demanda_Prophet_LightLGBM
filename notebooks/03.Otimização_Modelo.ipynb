{
 "cells": [
  {
   "cell_type": "code",
   "execution_count": null,
   "id": "023c6207",
   "metadata": {},
   "outputs": [],
   "source": [
    "#Função de avaliação\n",
    "def avaliar_modelo(modelo,x_train,y_train, x_test, y_test):\n",
    "    \"\"\"\n",
    "    Calcula e exibe as métricas de avaliação (R², MAE, RMSE) para um modelo de regressão.\n",
    "    \"\"\"\n",
    "    # Fazer previsões com os dados de teste\n",
    "    previsao_treino = modelo.predict(x_train)\n",
    "    previsao_teste =  modelo.predict(x_test)\n",
    "    \n",
    "    # Calcular as métricas de treino\n",
    "    mae_train = mean_absolute_error(y_train, previsao_treino)\n",
    "    rmse_train = np.sqrt(mean_squared_error(y_train, previsao_treino)) # RMSE é a raiz quadrada do MSE\n",
    "    r2_train = r2_score(y_train, previsao_treino)\n",
    "    \n",
    "    # Calcular as métricas de teste\n",
    "    mae_test = mean_absolute_error(y_test, previsao_teste)\n",
    "    rmse_test = np.sqrt(mean_squared_error(y_test, previsao_teste)) # RMSE é a raiz quadrada do MSE\n",
    "    r2_test = r2_score(y_test, previsao_teste)\n",
    "    \n",
    "    # Concatenar resultados\n",
    "    resultados = {\n",
    "        'Métrica': ['R²', 'MAE', 'RMSE'],\n",
    "        'Treino': [r2_train, mae_train, rmse_train],\n",
    "        'Teste': [r2_test, mae_test, rmse_test]\n",
    "    }\n",
    "    resultado = pd.DataFrame(resultados)\n",
    "    return round(resultado,3)"
   ]
  },
  {
   "cell_type": "code",
   "execution_count": null,
   "id": "0f323259",
   "metadata": {},
   "outputs": [],
   "source": [
    "import pandas as pd\n",
    "import numpy as np\n",
    "import lightgbm as lgb\n",
    "from sklearn.metrics import mean_squared_error, mean_absolute_error, r2_score\n",
    "import optuna\n",
    "import joblib"
   ]
  },
  {
   "cell_type": "code",
   "execution_count": null,
   "id": "b2b62e5d",
   "metadata": {},
   "outputs": [],
   "source": [
    "df = pd.read_csv('../data/processed/df_ML.csv')\n",
    "df['date'] = pd.to_datetime(df['date'])\n",
    "df = df.set_index('date')\n",
    "df.sort_index(inplace=True)"
   ]
  },
  {
   "cell_type": "code",
   "execution_count": null,
   "id": "864a1aab",
   "metadata": {},
   "outputs": [],
   "source": [
    "# Dividindo cronologicamente\n",
    "df_train = df[df.index.year < 2017]\n",
    "df_valid = df[df.index.year == 2017]\n",
    "\n",
    "# Separando features\n",
    "x_train = df_train.drop('sales', axis=1)\n",
    "y_train = df_train['sales']\n",
    "x_valid = df_valid.drop('sales', axis=1)\n",
    "y_valid = df_valid['sales']"
   ]
  },
  {
   "cell_type": "code",
   "execution_count": null,
   "id": "1a075fd4",
   "metadata": {},
   "outputs": [],
   "source": [
    "def objective(trial,x_treino,y_treino,x_validacao,y_validacao):\n",
    "    params = {\n",
    "        'objective': 'regression_l1',\n",
    "        'metric': 'rmse',\n",
    "        'n_estimators': trial.suggest_int('n_estimators', 800, 2500),\n",
    "        'learning_rate': trial.suggest_loguniform('learning_rate', 0.01, 0.1),\n",
    "        'num_leaves': trial.suggest_int('num_leaves', 20, 100),\n",
    "        'max_depth': trial.suggest_int('max_depth', 5, 20),\n",
    "        'reg_alpha': trial.suggest_loguniform('reg_alpha', 1e-3, 10.0),\n",
    "        'reg_lambda': trial.suggest_loguniform('reg_lambda', 1e-3, 10.0),\n",
    "        'colsample_bytree': trial.suggest_uniform('colsample_bytree', 0.5, 1.0),\n",
    "        'subsample': trial.suggest_uniform('subsample', 0.5, 1.0),\n",
    "        'random_state': 42,\n",
    "    }\n",
    "    \n",
    "    # Treinar o modelo com os parâmetros sugeridos\n",
    "    model = lgb.LGBMRegressor(**params)\n",
    "    model.fit(\n",
    "        x_treino, \n",
    "        y_treino,\n",
    "        eval_set=[(x_validacao, y_validacao)],\n",
    "        eval_metric='rmse',\n",
    "        callbacks=[lgb.early_stopping(100),optuna.integration.LightGBMPruningCallback(trial, \"rmse\")]\n",
    "    )\n",
    "    \n",
    "    # Fazer previsões e avaliar\n",
    "    previsoes = model.predict(x_validacao)\n",
    "    rmse = np.sqrt(mean_squared_error(y_validacao, previsoes))\n",
    "    \n",
    "    return rmse"
   ]
  },
  {
   "cell_type": "code",
   "execution_count": null,
   "id": "71513a83",
   "metadata": {},
   "outputs": [],
   "source": [
    "#Definição do criterio de estudo\n",
    "study = optuna.create_study(direction=\"minimize\")\n",
    "\n",
    "# Iniciar a otimização\n",
    "study.optimize(\n",
    "    lambda trial: objective(trial, x_train, y_train, x_valid, y_valid),\n",
    "    n_trials=50\n",
    ")\n",
    "\n",
    "best_params = study.best_params"
   ]
  },
  {
   "cell_type": "code",
   "execution_count": null,
   "id": "46f8a66d",
   "metadata": {},
   "outputs": [],
   "source": [
    "# Melhores resultados\n",
    "print(best_params)\n",
    "print(f\"\\nMelhor valor de RMSE: {study.best_value}\")"
   ]
  },
  {
   "cell_type": "code",
   "execution_count": null,
   "id": "3c6b05ed",
   "metadata": {},
   "outputs": [],
   "source": [
    "# Treinando modelo otimizado\n",
    "lgbm_otimizado = lgb.LGBMRegressor(**best_params, random_state=42)\n",
    "lgbm_otimizado.fit(x_train, y_train)"
   ]
  },
  {
   "cell_type": "code",
   "execution_count": null,
   "id": "baad1886",
   "metadata": {},
   "outputs": [],
   "source": [
    "path_lgbm_otim = '../models/lgbm_otimizado.joblib'\n",
    "lgbm_otimizado = joblib.load(path_lgbm_otim)"
   ]
  },
  {
   "cell_type": "code",
   "execution_count": null,
   "id": "dd3af9b4",
   "metadata": {},
   "outputs": [],
   "source": [
    "# Avaliando performance\n",
    "avaliar_modelo(lgbm_otimizado, x_train, y_train, x_valid, y_valid)"
   ]
  },
  {
   "cell_type": "code",
   "execution_count": null,
   "id": "848161ba",
   "metadata": {},
   "outputs": [],
   "source": [
    "# Salva o  melhor modelo\n",
    "import joblib\n",
    "joblib.dump(lgbm_otimizado, 'lgbm_otimizado.joblib')"
   ]
  },
  {
   "cell_type": "code",
   "execution_count": null,
   "id": "5c7e437f",
   "metadata": {},
   "outputs": [],
   "source": [
    "# Salva featrures do modelo\n",
    "features_do_modelo = x_train.columns.tolist()\n",
    "joblib.dump(features_do_modelo, 'lista_de_features.joblib')"
   ]
  }
 ],
 "metadata": {
  "kernelspec": {
   "display_name": "projeto-previsao-demanda-YKHilLeT-py3.10",
   "language": "python",
   "name": "python3"
  },
  "language_info": {
   "codemirror_mode": {
    "name": "ipython",
    "version": 3
   },
   "file_extension": ".py",
   "mimetype": "text/x-python",
   "name": "python",
   "nbconvert_exporter": "python",
   "pygments_lexer": "ipython3",
   "version": "3.10.11"
  }
 },
 "nbformat": 4,
 "nbformat_minor": 5
}
