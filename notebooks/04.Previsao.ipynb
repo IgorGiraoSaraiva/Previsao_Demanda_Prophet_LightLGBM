{
 "cells": [
  {
   "cell_type": "code",
   "execution_count": null,
   "id": "4ec907aa",
   "metadata": {},
   "outputs": [],
   "source": [
    "import pandas as pd\n",
    "import numpy as np\n",
    "import joblib\n",
    "import holidays\n",
    "import optuna\n",
    "import plotly.graph_objects as go"
   ]
  },
  {
   "cell_type": "markdown",
   "id": "4d9f8370",
   "metadata": {},
   "source": [
    "# Carregar arquivos"
   ]
  },
  {
   "cell_type": "code",
   "execution_count": null,
   "id": "ad9dbddc",
   "metadata": {},
   "outputs": [],
   "source": [
    "# Carrega o modelo qtimo\n",
    "lgbm_otimo = joblib.load('../models/lgbm_otimizado.joblib')\n",
    "# Carrega a lista de features\n",
    "features_do_modelo = joblib.load('../models/lista_de_features.joblib')\n"
   ]
  },
  {
   "cell_type": "markdown",
   "id": "94ca878e",
   "metadata": {},
   "source": [
    "# Carregar datasets"
   ]
  },
  {
   "cell_type": "code",
   "execution_count": null,
   "id": "9bff1e74",
   "metadata": {},
   "outputs": [],
   "source": [
    "# Carregandod datasets\n",
    "df_train = pd.read_csv('../data/raw/train.csv') \n",
    "df_test = pd.read_csv('../data/raw/test.csv')\n",
    "\n",
    "# Guardar os IDs do teste para o arquivo final\n",
    "ids_teste = df_test['id']\n",
    "\n",
    "# Juntar os dataframes\n",
    "df_combinado = pd.concat([df_train.reset_index(), df_test], ignore_index=True)"
   ]
  },
  {
   "cell_type": "markdown",
   "id": "15be9e84",
   "metadata": {},
   "source": [
    "# Engenharia de Feature"
   ]
  },
  {
   "cell_type": "code",
   "execution_count": null,
   "id": "fdb1c759",
   "metadata": {},
   "outputs": [],
   "source": [
    "# Transformações de data\n",
    "df_combinado['date'] = pd.to_datetime(df_combinado['date'])\n",
    "df_combinado = df_combinado.set_index('date')\n",
    "df_combinado.sort_index(inplace=True)\n",
    "\n",
    "# Features de Calendário e Feriados\n",
    "df_combinado['mes'] = df_combinado.index.month\n",
    "df_combinado['dia_da_semana'] = df_combinado.index.dayofweek\n",
    "df_combinado['dia_do_ano'] = df_combinado.index.dayofyear\n",
    "df_combinado['semana_do_ano'] = df_combinado.index.isocalendar().week.astype(int)\n",
    "df_combinado['ano'] = df_combinado.index.year\n",
    "feriados_br = holidays.Brazil(years=range(2013, 2019))\n",
    "df_combinado['e_feriado'] = df_combinado.index.to_series().apply(lambda x: feriados_br.get(x)).notna().astype(int)\n",
    "\n",
    "# Features de Lag e Janela Móvel\n",
    "df_combinado['vendas_lag_7d'] = df_combinado.groupby(['store', 'item'])['sales'].shift(7)\n",
    "df_combinado['media_vendas_7d'] = df_combinado.groupby(['store', 'item'])['sales'].transform(\n",
    "    lambda x: x.shift(1).rolling(window=7, min_periods=1).mean())\n",
    "df_combinado['vendas_lag_15d'] = df_combinado.groupby(['store', 'item'])['sales'].shift(15)\n",
    "df_combinado['vendas_lag_30d'] = df_combinado.groupby(['store', 'item'])['sales'].shift(30)\n",
    "df_combinado['media_vendas_30d'] = df_combinado.groupby(['store', 'item'])['sales'].transform(\n",
    "    lambda x: x.shift(1).rolling(window=30, min_periods=1).mean()\n",
    ")"
   ]
  },
  {
   "cell_type": "code",
   "execution_count": null,
   "id": "54bbf037",
   "metadata": {},
   "outputs": [],
   "source": [
    "df_combinado"
   ]
  },
  {
   "cell_type": "markdown",
   "id": "7ff0eea6",
   "metadata": {},
   "source": [
    "# Realizando previsão"
   ]
  },
  {
   "cell_type": "code",
   "execution_count": null,
   "id": "16180f56",
   "metadata": {},
   "outputs": [],
   "source": [
    "# Separar o DataFrame de Teste Final\n",
    "df_teste_final = df_combinado[df_combinado['sales'].isna()]"
   ]
  },
  {
   "cell_type": "code",
   "execution_count": null,
   "id": "d860d73a",
   "metadata": {},
   "outputs": [],
   "source": [
    "df_teste_final\n",
    "\n",
    "# Garantir que as colunas estão na ordem correta usando a lista que salvamos\n",
    "x_teste_final = df_teste_final[features_do_modelo]\n",
    "\n",
    "nome_arquivo = 'df_ML_test.csv'\n",
    "x_teste_final.to_csv(nome_arquivo)"
   ]
  },
  {
   "cell_type": "code",
   "execution_count": null,
   "id": "b1895af8",
   "metadata": {},
   "outputs": [],
   "source": [
    "# Fazer as previsões com o modelo carregado\n",
    "previsoes_finais = lgbm_otimo.predict(x_teste_final)\n",
    "previsoes_finais[previsoes_finais < 0] = 0 "
   ]
  },
  {
   "cell_type": "markdown",
   "id": "e35c5b85",
   "metadata": {},
   "source": [
    "# Vizualizando previsão"
   ]
  },
  {
   "cell_type": "code",
   "execution_count": null,
   "id": "847e53e6",
   "metadata": {},
   "outputs": [],
   "source": [
    "# Agregando o total de vendas reais por dia\n",
    "df_train['date'] = pd.to_datetime(df_train['date'])\n",
    "df_train = df_train.set_index('date')\n",
    "vendas_reais_diarias = df_train['sales'].resample('D').sum()"
   ]
  },
  {
   "cell_type": "code",
   "execution_count": null,
   "id": "43b14d36",
   "metadata": {},
   "outputs": [],
   "source": [
    "# Preparar os dados de previsão\n",
    "previsoes_com_data = pd.Series(previsoes_finais, index=x_teste_final.index)\n",
    "# Agregamos as previsões por dia, para ter a mesma granularidade dos dados reais\n",
    "previsoes_diarias = previsoes_com_data.resample('D').sum()"
   ]
  },
  {
   "cell_type": "code",
   "execution_count": null,
   "id": "bc28baf0",
   "metadata": {},
   "outputs": [],
   "source": [
    "previsoes_com_data"
   ]
  },
  {
   "cell_type": "code",
   "execution_count": null,
   "id": "0a83f1f4",
   "metadata": {},
   "outputs": [],
   "source": [
    "# 3. Criar a figura\n",
    "fig = go.Figure()\n",
    "\n",
    "# Adicionar a linha de Vendas Reais (Histórico)\n",
    "fig.add_trace(go.Scatter(\n",
    "    x=vendas_reais_diarias.index,\n",
    "    y=vendas_reais_diarias.values,\n",
    "    mode='lines',\n",
    "    name='Vendas Reais (Histórico)',\n",
    "    line=dict(color='blue')\n",
    "))\n",
    "\n",
    "# Adicionar a linha de Previsões\n",
    "fig.add_trace(go.Scatter(\n",
    "    x=previsoes_diarias.index,\n",
    "    y=previsoes_diarias.values,\n",
    "    mode='lines',\n",
    "    name='Previsões (2018)',\n",
    "    line=dict(color='red', dash='dash')\n",
    "))\n",
    "\n",
    "# 4. Customizar o layout para um visual profissional\n",
    "fig.update_layout(\n",
    "    title='Histórico de Vendas (2013-2017) vs. Previsões (2018)',\n",
    "    yaxis_title='Total de Vendas',\n",
    "    legend_title='Legenda'\n",
    ")\n",
    "\n",
    "# Exibir o gráfico interativo\n",
    "fig.show()"
   ]
  }
 ],
 "metadata": {
  "kernelspec": {
   "display_name": "projeto-previsao-demanda-YKHilLeT-py3.10",
   "language": "python",
   "name": "python3"
  },
  "language_info": {
   "codemirror_mode": {
    "name": "ipython",
    "version": 3
   },
   "file_extension": ".py",
   "mimetype": "text/x-python",
   "name": "python",
   "nbconvert_exporter": "python",
   "pygments_lexer": "ipython3",
   "version": "3.10.11"
  }
 },
 "nbformat": 4,
 "nbformat_minor": 5
}
